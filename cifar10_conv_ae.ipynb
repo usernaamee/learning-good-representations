{
  "nbformat": 4,
  "nbformat_minor": 0,
  "metadata": {
    "colab": {
      "name": "cifar10_conv_ae.ipynb",
      "version": "0.3.2",
      "provenance": [],
      "collapsed_sections": [],
      "include_colab_link": true
    },
    "kernelspec": {
      "name": "python3",
      "display_name": "Python 3"
    },
    "accelerator": "GPU"
  },
  "cells": [
    {
      "cell_type": "markdown",
      "metadata": {
        "id": "view-in-github",
        "colab_type": "text"
      },
      "source": [
        "[View in Colaboratory](https://colab.research.google.com/github/usernaamee/learning-good-representations/blob/master/cifar10_conv_ae.ipynb)"
      ]
    },
    {
      "metadata": {
        "id": "_0CewyFVo_wy",
        "colab_type": "code",
        "colab": {
          "base_uri": "https://localhost:8080/",
          "height": 34
        },
        "outputId": "d74c1f21-1551-4e1e-bde5-94d086aee682"
      },
      "cell_type": "code",
      "source": [
        "import numpy as np\n",
        "from keras.models import Sequential\n",
        "from keras.datasets import cifar10\n",
        "from keras.layers import Input, Dense, Conv2D, Conv2DTranspose, MaxPooling2D, \\\n",
        "  UpSampling2D, Reshape, Flatten, BatchNormalization, Dropout, Activation"
      ],
      "execution_count": 5,
      "outputs": [
        {
          "output_type": "stream",
          "text": [
            "Using TensorFlow backend.\n"
          ],
          "name": "stderr"
        }
      ]
    },
    {
      "metadata": {
        "id": "edwrNIqbpR8R",
        "colab_type": "code",
        "colab": {
          "base_uri": "https://localhost:8080/",
          "height": 1088
        },
        "outputId": "74762bd4-0c7b-4777-a1a6-09e80d429e33"
      },
      "cell_type": "code",
      "source": [
        "conv_ae = Sequential()\n",
        "for l_idx in range(3):\n",
        "  conv_ae.add(Conv2D(32*(l_idx+1), 3, strides=2, padding='same', input_shape=(32, 32, 3)))\n",
        "  conv_ae.add(Conv2D(32*(l_idx+1), 3, padding='same'))\n",
        "  conv_ae.add(BatchNormalization())\n",
        "  conv_ae.add(Activation('relu'))\n",
        "  conv_ae.add(Dropout(0.5))\n",
        "for l_idx in range(3):\n",
        "  conv_ae.add(UpSampling2D())\n",
        "  conv_ae.add(Conv2DTranspose(64, 3, padding='same'))\n",
        "  conv_ae.add(Conv2DTranspose(64, 3, padding='same'))\n",
        "  conv_ae.add(Activation('relu'))\n",
        "conv_ae.add(Conv2D(3, 1, activation='tanh'))\n",
        "conv_ae.summary()"
      ],
      "execution_count": 6,
      "outputs": [
        {
          "output_type": "stream",
          "text": [
            "_________________________________________________________________\n",
            "Layer (type)                 Output Shape              Param #   \n",
            "=================================================================\n",
            "conv2d_1 (Conv2D)            (None, 16, 16, 32)        896       \n",
            "_________________________________________________________________\n",
            "conv2d_2 (Conv2D)            (None, 16, 16, 32)        9248      \n",
            "_________________________________________________________________\n",
            "batch_normalization_1 (Batch (None, 16, 16, 32)        128       \n",
            "_________________________________________________________________\n",
            "activation_1 (Activation)    (None, 16, 16, 32)        0         \n",
            "_________________________________________________________________\n",
            "dropout_1 (Dropout)          (None, 16, 16, 32)        0         \n",
            "_________________________________________________________________\n",
            "conv2d_3 (Conv2D)            (None, 8, 8, 64)          18496     \n",
            "_________________________________________________________________\n",
            "conv2d_4 (Conv2D)            (None, 8, 8, 64)          36928     \n",
            "_________________________________________________________________\n",
            "batch_normalization_2 (Batch (None, 8, 8, 64)          256       \n",
            "_________________________________________________________________\n",
            "activation_2 (Activation)    (None, 8, 8, 64)          0         \n",
            "_________________________________________________________________\n",
            "dropout_2 (Dropout)          (None, 8, 8, 64)          0         \n",
            "_________________________________________________________________\n",
            "conv2d_5 (Conv2D)            (None, 4, 4, 96)          55392     \n",
            "_________________________________________________________________\n",
            "conv2d_6 (Conv2D)            (None, 4, 4, 96)          83040     \n",
            "_________________________________________________________________\n",
            "batch_normalization_3 (Batch (None, 4, 4, 96)          384       \n",
            "_________________________________________________________________\n",
            "activation_3 (Activation)    (None, 4, 4, 96)          0         \n",
            "_________________________________________________________________\n",
            "dropout_3 (Dropout)          (None, 4, 4, 96)          0         \n",
            "_________________________________________________________________\n",
            "up_sampling2d_1 (UpSampling2 (None, 8, 8, 96)          0         \n",
            "_________________________________________________________________\n",
            "conv2d_transpose_1 (Conv2DTr (None, 8, 8, 64)          55360     \n",
            "_________________________________________________________________\n",
            "conv2d_transpose_2 (Conv2DTr (None, 8, 8, 64)          36928     \n",
            "_________________________________________________________________\n",
            "activation_4 (Activation)    (None, 8, 8, 64)          0         \n",
            "_________________________________________________________________\n",
            "up_sampling2d_2 (UpSampling2 (None, 16, 16, 64)        0         \n",
            "_________________________________________________________________\n",
            "conv2d_transpose_3 (Conv2DTr (None, 16, 16, 64)        36928     \n",
            "_________________________________________________________________\n",
            "conv2d_transpose_4 (Conv2DTr (None, 16, 16, 64)        36928     \n",
            "_________________________________________________________________\n",
            "activation_5 (Activation)    (None, 16, 16, 64)        0         \n",
            "_________________________________________________________________\n",
            "up_sampling2d_3 (UpSampling2 (None, 32, 32, 64)        0         \n",
            "_________________________________________________________________\n",
            "conv2d_transpose_5 (Conv2DTr (None, 32, 32, 64)        36928     \n",
            "_________________________________________________________________\n",
            "conv2d_transpose_6 (Conv2DTr (None, 32, 32, 64)        36928     \n",
            "_________________________________________________________________\n",
            "activation_6 (Activation)    (None, 32, 32, 64)        0         \n",
            "_________________________________________________________________\n",
            "conv2d_7 (Conv2D)            (None, 32, 32, 3)         195       \n",
            "=================================================================\n",
            "Total params: 444,963\n",
            "Trainable params: 444,579\n",
            "Non-trainable params: 384\n",
            "_________________________________________________________________\n"
          ],
          "name": "stdout"
        }
      ]
    },
    {
      "metadata": {
        "id": "EcvBm6zFqPMd",
        "colab_type": "code",
        "colab": {
          "base_uri": "https://localhost:8080/",
          "height": 34
        },
        "outputId": "7869439f-e73f-4d2a-a5a8-adbf480a89ae"
      },
      "cell_type": "code",
      "source": [
        "((xtrain, ytrain), (xtest, ytest)) = cifar10.load_data()\n",
        "print(xtrain.shape, xtest.shape)"
      ],
      "execution_count": 7,
      "outputs": [
        {
          "output_type": "stream",
          "text": [
            "(50000, 32, 32, 3) (10000, 32, 32, 3)\n"
          ],
          "name": "stdout"
        }
      ]
    },
    {
      "metadata": {
        "id": "1ojUaDVg07n4",
        "colab_type": "code",
        "colab": {}
      },
      "cell_type": "code",
      "source": [
        "from keras.preprocessing.image import ImageDataGenerator\n",
        "datagen = ImageDataGenerator(\n",
        "    featurewise_center=True, \n",
        "    featurewise_std_normalization=True,\n",
        "    rotation_range=45.0,\n",
        "    width_shift_range=0.1,\n",
        "    height_shift_range=0.1,\n",
        "    shear_range=10.0,\n",
        "    zoom_range=0.1,\n",
        "    horizontal_flip=True,\n",
        "    validation_split=0.3\n",
        ")\n",
        "datagen.fit(xtrain)"
      ],
      "execution_count": 0,
      "outputs": []
    },
    {
      "metadata": {
        "id": "3gP10jVx1GLM",
        "colab_type": "code",
        "colab": {
          "base_uri": "https://localhost:8080/",
          "height": 68
        },
        "outputId": "080e551e-af7e-4f20-9170-f521e33698bd"
      },
      "cell_type": "code",
      "source": [
        "conv_ae.compile(loss='mse', optimizer='adam')\n",
        "n_epochs = 10\n",
        "\n",
        "for epoch in range(n_epochs):\n",
        "  training_loss = []\n",
        "  validation_loss = []\n",
        "  counter = 0\n",
        "  print ('\\nEpoch: {}/{}'.format(epoch+1,n_epochs))\n",
        "  for xb, yb in datagen.flow(xtrain, ytrain, batch_size=300, subset=\"training\"):\n",
        "    tloss = conv_ae.train_on_batch(xb, xb)\n",
        "    training_loss.append(tloss)\n",
        "    if (counter+1)%30==0:\n",
        "      print(' + {} training loss: {}'.format(counter+1, np.mean(training_loss)))\n",
        "    if counter+1 == 150:\n",
        "      break\n",
        "    counter += 1\n",
        "  counter = 0\n",
        "  for xb, yb in datagen.flow(xtrain, ytrain, batch_size=1000, subset=\"validation\"):\n",
        "    vloss = conv_ae.test_on_batch(xb, xb)\n",
        "    validation_loss.append(vloss)\n",
        "    if (counter+1)%3==0:\n",
        "      print(' + {} validation loss: {}'.format(counter+1, np.mean(validation_loss)))\n",
        "    if counter+1 == 15:\n",
        "      break\n",
        "    counter += 1\n",
        "  print ('Epoch: {}/{} -> {}\\t{}'.format(epoch+1,n_epochs, np.mean(training_loss), np.mean(validation_loss)))"
      ],
      "execution_count": 0,
      "outputs": [
        {
          "output_type": "stream",
          "text": [
            "\n",
            "Epoch: 1/10\n",
            " + 30 training loss: 0.5436111092567444\n"
          ],
          "name": "stdout"
        }
      ]
    },
    {
      "metadata": {
        "id": "WE0G8ZBD2ylX",
        "colab_type": "code",
        "colab": {
          "base_uri": "https://localhost:8080/",
          "height": 231
        },
        "outputId": "8487a99e-955f-45cb-9386-55eb144635c4"
      },
      "cell_type": "code",
      "source": [
        "testgen = ImageDataGenerator(\n",
        "    featurewise_center=True, \n",
        "    featurewise_std_normalization=True,\n",
        ")\n",
        "testgen.fit(xtest)\n",
        "\n",
        "test_loss = []\n",
        "counter = 0\n",
        "for xb, yb in testgen.flow(xtest, ytest, batch_size=1000):\n",
        "    tloss = conv_ae.test_on_batch(xb, xb)\n",
        "    test_loss.append(tloss)\n",
        "    if counter == 10:\n",
        "      break\n",
        "    counter += 1\n",
        "print('Test loss: {}'.format(np.mean(test_loss)))"
      ],
      "execution_count": 3,
      "outputs": [
        {
          "output_type": "error",
          "ename": "NameError",
          "evalue": "ignored",
          "traceback": [
            "\u001b[0;31m---------------------------------------------------------------------------\u001b[0m",
            "\u001b[0;31mNameError\u001b[0m                                 Traceback (most recent call last)",
            "\u001b[0;32m<ipython-input-3-17831ae63e4f>\u001b[0m in \u001b[0;36m<module>\u001b[0;34m()\u001b[0m\n\u001b[0;32m----> 1\u001b[0;31m testgen = ImageDataGenerator(\n\u001b[0m\u001b[1;32m      2\u001b[0m     \u001b[0mfeaturewise_center\u001b[0m\u001b[0;34m=\u001b[0m\u001b[0;32mTrue\u001b[0m\u001b[0;34m,\u001b[0m\u001b[0;34m\u001b[0m\u001b[0m\n\u001b[1;32m      3\u001b[0m     \u001b[0mfeaturewise_std_normalization\u001b[0m\u001b[0;34m=\u001b[0m\u001b[0;32mTrue\u001b[0m\u001b[0;34m,\u001b[0m\u001b[0;34m\u001b[0m\u001b[0m\n\u001b[1;32m      4\u001b[0m )\n\u001b[1;32m      5\u001b[0m \u001b[0mtestgen\u001b[0m\u001b[0;34m.\u001b[0m\u001b[0mfit\u001b[0m\u001b[0;34m(\u001b[0m\u001b[0mxtest\u001b[0m\u001b[0;34m)\u001b[0m\u001b[0;34m\u001b[0m\u001b[0m\n",
            "\u001b[0;31mNameError\u001b[0m: name 'ImageDataGenerator' is not defined"
          ]
        }
      ]
    },
    {
      "metadata": {
        "id": "DLhpcoliEAzp",
        "colab_type": "code",
        "colab": {}
      },
      "cell_type": "code",
      "source": [
        "%matplotlib inline\n",
        "import matplotlib.pyplot as plt"
      ],
      "execution_count": 0,
      "outputs": []
    },
    {
      "metadata": {
        "id": "jEtZbQsOHQ4n",
        "colab_type": "code",
        "colab": {
          "base_uri": "https://localhost:8080/",
          "height": 248
        },
        "outputId": "9c1d9d13-8aac-4815-c65a-79f6cf64cb34"
      },
      "cell_type": "code",
      "source": [
        "imgs, _ = next(datagen.flow(xtest, ytest, batch_size=3))\n",
        "genimgs = conv_ae.predict(imgs)\n",
        "imgs *= datagen.std\n",
        "imgs += datagen.mean\n",
        "imgs = imgs.astype(np.uint8)\n",
        "genimgs *= datagen.std\n",
        "genimgs += datagen.mean\n",
        "genimgs = genimgs.astype(np.uint8)\n",
        "\n",
        "fig = plt.figure()\n",
        "\n",
        "for i in range(3):\n",
        "  ax = fig.add_subplot(3, 2, i*2+1)\n",
        "  ax.grid(False)\n",
        "  ax.set_xticklabels([])\n",
        "  ax.set_yticklabels([])\n",
        "  ax.imshow(imgs[i])\n",
        "  ax = fig.add_subplot(3, 2, i*2+2)\n",
        "  ax.grid(False)\n",
        "  ax.set_xticklabels([])\n",
        "  ax.set_yticklabels([])\n",
        "  ax.imshow(genimgs[i])"
      ],
      "execution_count": 37,
      "outputs": [
        {
          "output_type": "display_data",
          "data": {
            "image/png": "[encoded data removed]",
            "text/plain": [
              "<matplotlib.figure.Figure at 0x7f572519a080>"
            ]
          },
          "metadata": {
            "tags": []
          }
        }
      ]
    },
    {
      "metadata": {
        "id": "5yr-5VRtI6yB",
        "colab_type": "code",
        "colab": {}
      },
      "cell_type": "code",
      "source": [
        ""
      ],
      "execution_count": 0,
      "outputs": []
    }
  ]
}