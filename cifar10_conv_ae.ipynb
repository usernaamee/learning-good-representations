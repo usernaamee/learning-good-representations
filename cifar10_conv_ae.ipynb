{
  "nbformat": 4,
  "nbformat_minor": 0,
  "metadata": {
    "colab": {
      "name": "cifar10_conv_ae.ipynb",
      "version": "0.3.2",
      "provenance": [],
      "collapsed_sections": [],
      "include_colab_link": true
    },
    "kernelspec": {
      "name": "python3",
      "display_name": "Python 3"
    },
    "accelerator": "GPU"
  },
  "cells": [
    {
      "cell_type": "markdown",
      "metadata": {
        "id": "view-in-github",
        "colab_type": "text"
      },
      "source": [
        "[View in Colaboratory](https://colab.research.google.com/github/usernaamee/learning-good-representations/blob/master/cifar10_conv_ae.ipynb)"
      ]
    },
    {
      "metadata": {
        "id": "_0CewyFVo_wy",
        "colab_type": "code",
        "colab": {
          "base_uri": "https://localhost:8080/",
          "height": 34
        },
        "outputId": "d74c1f21-1551-4e1e-bde5-94d086aee682"
      },
      "cell_type": "code",
      "source": [
        "import numpy as np\n",
        "from keras.models import Sequential\n",
        "from keras.datasets import cifar10\n",
        "from keras.layers import Input, Dense, Conv2D, Conv2DTranspose, MaxPooling2D, \\\n",
        "  UpSampling2D, Reshape, Flatten, BatchNormalization, Dropout, Activation"
      ],
      "execution_count": 5,
      "outputs": [
        {
          "output_type": "stream",
          "text": [
            "Using TensorFlow backend.\n"
          ],
          "name": "stderr"
        }
      ]
    },
    {
      "metadata": {
        "id": "edwrNIqbpR8R",
        "colab_type": "code",
        "colab": {
          "base_uri": "https://localhost:8080/",
          "height": 1088
        },
        "outputId": "74762bd4-0c7b-4777-a1a6-09e80d429e33"
      },
      "cell_type": "code",
      "source": [
        "conv_ae = Sequential()\n",
        "for l_idx in range(3):\n",
        "  conv_ae.add(Conv2D(32*(l_idx+1), 3, strides=2, padding='same', input_shape=(32, 32, 3)))\n",
        "  conv_ae.add(Conv2D(32*(l_idx+1), 3, padding='same'))\n",
        "  conv_ae.add(BatchNormalization())\n",
        "  conv_ae.add(Activation('relu'))\n",
        "  conv_ae.add(Dropout(0.5))\n",
        "for l_idx in range(3):\n",
        "  conv_ae.add(UpSampling2D())\n",
        "  conv_ae.add(Conv2DTranspose(64, 3, padding='same'))\n",
        "  conv_ae.add(Conv2DTranspose(64, 3, padding='same'))\n",
        "  conv_ae.add(Activation('relu'))\n",
        "conv_ae.add(Conv2D(3, 1, activation='tanh'))\n",
        "conv_ae.summary()"
      ],
      "execution_count": 6,
      "outputs": [
        {
          "output_type": "stream",
          "text": [
            "_________________________________________________________________\n",
            "Layer (type)                 Output Shape              Param #   \n",
            "=================================================================\n",
            "conv2d_1 (Conv2D)            (None, 16, 16, 32)        896       \n",
            "_________________________________________________________________\n",
            "conv2d_2 (Conv2D)            (None, 16, 16, 32)        9248      \n",
            "_________________________________________________________________\n",
            "batch_normalization_1 (Batch (None, 16, 16, 32)        128       \n",
            "_________________________________________________________________\n",
            "activation_1 (Activation)    (None, 16, 16, 32)        0         \n",
            "_________________________________________________________________\n",
            "dropout_1 (Dropout)          (None, 16, 16, 32)        0         \n",
            "_________________________________________________________________\n",
            "conv2d_3 (Conv2D)            (None, 8, 8, 64)          18496     \n",
            "_________________________________________________________________\n",
            "conv2d_4 (Conv2D)            (None, 8, 8, 64)          36928     \n",
            "_________________________________________________________________\n",
            "batch_normalization_2 (Batch (None, 8, 8, 64)          256       \n",
            "_________________________________________________________________\n",
            "activation_2 (Activation)    (None, 8, 8, 64)          0         \n",
            "_________________________________________________________________\n",
            "dropout_2 (Dropout)          (None, 8, 8, 64)          0         \n",
            "_________________________________________________________________\n",
            "conv2d_5 (Conv2D)            (None, 4, 4, 96)          55392     \n",
            "_________________________________________________________________\n",
            "conv2d_6 (Conv2D)            (None, 4, 4, 96)          83040     \n",
            "_________________________________________________________________\n",
            "batch_normalization_3 (Batch (None, 4, 4, 96)          384       \n",
            "_________________________________________________________________\n",
            "activation_3 (Activation)    (None, 4, 4, 96)          0         \n",
            "_________________________________________________________________\n",
            "dropout_3 (Dropout)          (None, 4, 4, 96)          0         \n",
            "_________________________________________________________________\n",
            "up_sampling2d_1 (UpSampling2 (None, 8, 8, 96)          0         \n",
            "_________________________________________________________________\n",
            "conv2d_transpose_1 (Conv2DTr (None, 8, 8, 64)          55360     \n",
            "_________________________________________________________________\n",
            "conv2d_transpose_2 (Conv2DTr (None, 8, 8, 64)          36928     \n",
            "_________________________________________________________________\n",
            "activation_4 (Activation)    (None, 8, 8, 64)          0         \n",
            "_________________________________________________________________\n",
            "up_sampling2d_2 (UpSampling2 (None, 16, 16, 64)        0         \n",
            "_________________________________________________________________\n",
            "conv2d_transpose_3 (Conv2DTr (None, 16, 16, 64)        36928     \n",
            "_________________________________________________________________\n",
            "conv2d_transpose_4 (Conv2DTr (None, 16, 16, 64)        36928     \n",
            "_________________________________________________________________\n",
            "activation_5 (Activation)    (None, 16, 16, 64)        0         \n",
            "_________________________________________________________________\n",
            "up_sampling2d_3 (UpSampling2 (None, 32, 32, 64)        0         \n",
            "_________________________________________________________________\n",
            "conv2d_transpose_5 (Conv2DTr (None, 32, 32, 64)        36928     \n",
            "_________________________________________________________________\n",
            "conv2d_transpose_6 (Conv2DTr (None, 32, 32, 64)        36928     \n",
            "_________________________________________________________________\n",
            "activation_6 (Activation)    (None, 32, 32, 64)        0         \n",
            "_________________________________________________________________\n",
            "conv2d_7 (Conv2D)            (None, 32, 32, 3)         195       \n",
            "=================================================================\n",
            "Total params: 444,963\n",
            "Trainable params: 444,579\n",
            "Non-trainable params: 384\n",
            "_________________________________________________________________\n"
          ],
          "name": "stdout"
        }
      ]
    },
    {
      "metadata": {
        "id": "EcvBm6zFqPMd",
        "colab_type": "code",
        "colab": {
          "base_uri": "https://localhost:8080/",
          "height": 34
        },
        "outputId": "7869439f-e73f-4d2a-a5a8-adbf480a89ae"
      },
      "cell_type": "code",
      "source": [
        "((xtrain, ytrain), (xtest, ytest)) = cifar10.load_data()\n",
        "print(xtrain.shape, xtest.shape)"
      ],
      "execution_count": 7,
      "outputs": [
        {
          "output_type": "stream",
          "text": [
            "(50000, 32, 32, 3) (10000, 32, 32, 3)\n"
          ],
          "name": "stdout"
        }
      ]
    },
    {
      "metadata": {
        "id": "1ojUaDVg07n4",
        "colab_type": "code",
        "colab": {}
      },
      "cell_type": "code",
      "source": [
        "from keras.preprocessing.image import ImageDataGenerator\n",
        "datagen = ImageDataGenerator(\n",
        "    featurewise_center=True, \n",
        "    featurewise_std_normalization=True,\n",
        "    rotation_range=45.0,\n",
        "    width_shift_range=0.1,\n",
        "    height_shift_range=0.1,\n",
        "    shear_range=10.0,\n",
        "    zoom_range=0.1,\n",
        "    horizontal_flip=True,\n",
        "    validation_split=0.3\n",
        ")\n",
        "datagen.fit(xtrain)"
      ],
      "execution_count": 0,
      "outputs": []
    },
    {
      "metadata": {
        "id": "3gP10jVx1GLM",
        "colab_type": "code",
        "colab": {
          "base_uri": "https://localhost:8080/",
          "height": 2227
        },
        "outputId": "5178b8d6-9708-45a9-d0e9-d0c1bf51c452"
      },
      "cell_type": "code",
      "source": [
        "conv_ae.compile(loss='mse', optimizer='adam')\n",
        "n_epochs = 10\n",
        "\n",
        "for epoch in range(n_epochs):\n",
        "  training_loss = []\n",
        "  validation_loss = []\n",
        "  counter = 0\n",
        "  print ('\\nEpoch: {}/{}'.format(epoch+1,n_epochs))\n",
        "  for xb, yb in datagen.flow(xtrain, ytrain, batch_size=300, subset=\"training\"):\n",
        "    tloss = conv_ae.train_on_batch(xb, xb)\n",
        "    training_loss.append(tloss)\n",
        "    if (counter+1)%30==0:\n",
        "      print(' + {} training loss: {}'.format(counter+1, np.mean(training_loss)))\n",
        "    if counter+1 == 150:\n",
        "      break\n",
        "    counter += 1\n",
        "  counter = 0\n",
        "  for xb, yb in datagen.flow(xtrain, ytrain, batch_size=1000, subset=\"validation\"):\n",
        "    vloss = conv_ae.test_on_batch(xb, xb)\n",
        "    validation_loss.append(vloss)\n",
        "    if (counter+1)%3==0:\n",
        "      print(' + {} validation loss: {}'.format(counter+1, np.mean(validation_loss)))\n",
        "    if counter+1 == 15:\n",
        "      break\n",
        "    counter += 1\n",
        "  print ('Epoch: {}/{} -> {}\\t{}'.format(epoch+1,n_epochs, np.mean(training_loss), np.mean(validation_loss)))"
      ],
      "execution_count": 10,
      "outputs": [
        {
          "output_type": "stream",
          "text": [
            "\n",
            "Epoch: 1/10\n",
            " + 30 training loss: 0.24370180070400238\n",
            " + 60 training loss: 0.23477187752723694\n",
            " + 90 training loss: 0.23158489167690277\n",
            " + 120 training loss: 0.22961242496967316\n",
            " + 150 training loss: 0.22786326706409454\n",
            " + 3 validation loss: 0.19223947823047638\n",
            " + 6 validation loss: 0.19522391259670258\n",
            " + 9 validation loss: 0.1948145478963852\n",
            " + 12 validation loss: 0.19361113011837006\n",
            " + 15 validation loss: 0.19285358488559723\n",
            "Epoch: 1/10 -> 0.22786326706409454\t0.19285358488559723\n",
            "\n",
            "Epoch: 2/10\n",
            " + 30 training loss: 0.2223023772239685\n",
            " + 60 training loss: 0.22127804160118103\n",
            " + 90 training loss: 0.2208120971918106\n",
            " + 120 training loss: 0.21986158192157745\n",
            " + 150 training loss: 0.2188497930765152\n",
            " + 3 validation loss: 0.18924552202224731\n",
            " + 6 validation loss: 0.1872367411851883\n",
            " + 9 validation loss: 0.18802078068256378\n",
            " + 12 validation loss: 0.18682177364826202\n",
            " + 15 validation loss: 0.18728245794773102\n",
            "Epoch: 2/10 -> 0.2188497930765152\t0.18728245794773102\n",
            "\n",
            "Epoch: 3/10\n",
            " + 30 training loss: 0.21314261853694916\n",
            " + 60 training loss: 0.21358053386211395\n",
            " + 90 training loss: 0.21247923374176025\n",
            " + 120 training loss: 0.21202224493026733\n",
            " + 150 training loss: 0.21124742925167084\n",
            " + 3 validation loss: 0.18067920207977295\n",
            " + 6 validation loss: 0.1819961816072464\n",
            " + 9 validation loss: 0.1812383383512497\n",
            " + 12 validation loss: 0.18129700422286987\n",
            " + 15 validation loss: 0.18073925375938416\n",
            "Epoch: 3/10 -> 0.21124742925167084\t0.18073925375938416\n",
            "\n",
            "Epoch: 4/10\n",
            " + 30 training loss: 0.20935824513435364\n",
            " + 60 training loss: 0.20724551379680634\n",
            " + 90 training loss: 0.20682355761528015\n",
            " + 120 training loss: 0.20592793822288513\n",
            " + 150 training loss: 0.2051769196987152\n",
            " + 3 validation loss: 0.17246799170970917\n",
            " + 6 validation loss: 0.17422884702682495\n",
            " + 9 validation loss: 0.17550837993621826\n",
            " + 12 validation loss: 0.1748848706483841\n",
            " + 15 validation loss: 0.1745278537273407\n",
            "Epoch: 4/10 -> 0.2051769196987152\t0.1745278537273407\n",
            "\n",
            "Epoch: 5/10\n",
            " + 30 training loss: 0.20374123752117157\n",
            " + 60 training loss: 0.203278586268425\n",
            " + 90 training loss: 0.20328667759895325\n",
            " + 120 training loss: 0.20250223577022552\n",
            " + 150 training loss: 0.20214663445949554\n",
            " + 3 validation loss: 0.17304567992687225\n",
            " + 6 validation loss: 0.17281188070774078\n",
            " + 9 validation loss: 0.17114433646202087\n",
            " + 12 validation loss: 0.17103339731693268\n",
            " + 15 validation loss: 0.1715003103017807\n",
            "Epoch: 5/10 -> 0.20214663445949554\t0.1715003103017807\n",
            "\n",
            "Epoch: 6/10\n",
            " + 30 training loss: 0.20336765050888062\n",
            " + 60 training loss: 0.20136407017707825\n",
            " + 90 training loss: 0.20011384785175323\n",
            " + 120 training loss: 0.20054136216640472\n",
            " + 150 training loss: 0.19992363452911377\n",
            " + 3 validation loss: 0.16681571304798126\n",
            " + 6 validation loss: 0.16675901412963867\n",
            " + 9 validation loss: 0.16760525107383728\n",
            " + 12 validation loss: 0.16746889054775238\n",
            " + 15 validation loss: 0.16664235293865204\n",
            "Epoch: 6/10 -> 0.19992363452911377\t0.16664235293865204\n",
            "\n",
            "Epoch: 7/10\n",
            " + 30 training loss: 0.19632475078105927\n",
            " + 60 training loss: 0.1952095925807953\n",
            " + 90 training loss: 0.19560758769512177\n",
            " + 120 training loss: 0.1955013871192932\n",
            " + 150 training loss: 0.19565068185329437\n",
            " + 3 validation loss: 0.1630769819021225\n",
            " + 6 validation loss: 0.16311591863632202\n",
            " + 9 validation loss: 0.1626729816198349\n",
            " + 12 validation loss: 0.16375717520713806\n",
            " + 15 validation loss: 0.16365404427051544\n",
            "Epoch: 7/10 -> 0.19565068185329437\t0.16365404427051544\n",
            "\n",
            "Epoch: 8/10\n",
            " + 30 training loss: 0.19372233748435974\n",
            " + 60 training loss: 0.19315120577812195\n",
            " + 90 training loss: 0.19250492751598358\n",
            " + 120 training loss: 0.19236686825752258\n",
            " + 150 training loss: 0.19189387559890747\n",
            " + 3 validation loss: 0.15790759027004242\n",
            " + 6 validation loss: 0.16017450392246246\n",
            " + 9 validation loss: 0.1599723994731903\n",
            " + 12 validation loss: 0.16140063107013702\n",
            " + 15 validation loss: 0.1608438789844513\n",
            "Epoch: 8/10 -> 0.19189387559890747\t0.1608438789844513\n",
            "\n",
            "Epoch: 9/10\n",
            " + 30 training loss: 0.1961793452501297\n",
            " + 60 training loss: 0.19412994384765625\n",
            " + 90 training loss: 0.193060964345932\n",
            " + 120 training loss: 0.19257842004299164\n",
            " + 150 training loss: 0.19232405722141266\n",
            " + 3 validation loss: 0.16088522970676422\n",
            " + 6 validation loss: 0.15993322432041168\n",
            " + 9 validation loss: 0.15958626568317413\n",
            " + 12 validation loss: 0.15948623418807983\n",
            " + 15 validation loss: 0.15982933342456818\n",
            "Epoch: 9/10 -> 0.19232405722141266\t0.15982933342456818\n",
            "\n",
            "Epoch: 10/10\n",
            " + 30 training loss: 0.19263240694999695\n",
            " + 60 training loss: 0.19265243411064148\n",
            " + 90 training loss: 0.19047856330871582\n",
            " + 120 training loss: 0.19014854729175568\n",
            " + 150 training loss: 0.19033867120742798\n",
            " + 3 validation loss: 0.16219884157180786\n",
            " + 6 validation loss: 0.16091634333133698\n",
            " + 9 validation loss: 0.16170017421245575\n",
            " + 12 validation loss: 0.16099368035793304\n",
            " + 15 validation loss: 0.1610536277294159\n",
            "Epoch: 10/10 -> 0.19033867120742798\t0.1610536277294159\n"
          ],
          "name": "stdout"
        }
      ]
    },
    {
      "metadata": {
        "id": "WE0G8ZBD2ylX",
        "colab_type": "code",
        "colab": {
          "base_uri": "https://localhost:8080/",
          "height": 34
        },
        "outputId": "e3b82801-2a07-45a0-909e-f712f3d24e22"
      },
      "cell_type": "code",
      "source": [
        "testgen = ImageDataGenerator(\n",
        "    featurewise_center=True, \n",
        "    featurewise_std_normalization=True,\n",
        ")\n",
        "testgen.fit(xtest)\n",
        "\n",
        "test_loss = []\n",
        "counter = 0\n",
        "for xb, yb in testgen.flow(xtest, ytest, batch_size=1000):\n",
        "    tloss = conv_ae.test_on_batch(xb, xb)\n",
        "    test_loss.append(tloss)\n",
        "    if counter == 10:\n",
        "      break\n",
        "    counter += 1\n",
        "print('Test loss: {}'.format(np.mean(test_loss)))"
      ],
      "execution_count": 11,
      "outputs": [
        {
          "output_type": "stream",
          "text": [
            "Test loss: 0.19410990178585052\n"
          ],
          "name": "stdout"
        }
      ]
    },
    {
      "metadata": {
        "id": "DLhpcoliEAzp",
        "colab_type": "code",
        "colab": {}
      },
      "cell_type": "code",
      "source": [
        "%matplotlib inline\n",
        "import matplotlib.pyplot as plt"
      ],
      "execution_count": 0,
      "outputs": []
    },
    {
      "metadata": {
        "id": "jEtZbQsOHQ4n",
        "colab_type": "code",
        "colab": {
          "base_uri": "https://localhost:8080/",
          "height": 248
        },
        "outputId": "9b9f22fc-2808-470e-9ef3-d5eec42928b7"
      },
      "cell_type": "code",
      "source": [
        "imgs, _ = next(datagen.flow(xtest, ytest, batch_size=3))\n",
        "genimgs = conv_ae.predict(imgs)\n",
        "imgs *= datagen.std\n",
        "imgs += datagen.mean\n",
        "imgs = imgs.astype(np.uint8)\n",
        "genimgs *= datagen.std\n",
        "genimgs += datagen.mean\n",
        "genimgs = genimgs.astype(np.uint8)\n",
        "\n",
        "fig = plt.figure()\n",
        "\n",
        "for i in range(3):\n",
        "  ax = fig.add_subplot(3, 2, i*2+1)\n",
        "  ax.grid(False)\n",
        "  ax.set_xticklabels([])\n",
        "  ax.set_yticklabels([])\n",
        "  ax.imshow(imgs[i])\n",
        "  ax = fig.add_subplot(3, 2, i*2+2)\n",
        "  ax.grid(False)\n",
        "  ax.set_xticklabels([])\n",
        "  ax.set_yticklabels([])\n",
        "  ax.imshow(genimgs[i])"
      ],
      "execution_count": 13,
      "outputs": [
        {
          "output_type": "display_data",
          "data": {
            "image/png": "[encoded data removed]",
            "text/plain": [
              "<matplotlib.figure.Figure at 0x7f07eddd30b8>"
            ]
          },
          "metadata": {
            "tags": []
          }
        }
      ]
    },
    {
      "metadata": {
        "id": "5yr-5VRtI6yB",
        "colab_type": "code",
        "colab": {}
      },
      "cell_type": "code",
      "source": [
        ""
      ],
      "execution_count": 0,
      "outputs": []
    }
  ]
}